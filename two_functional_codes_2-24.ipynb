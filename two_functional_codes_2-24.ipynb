{
 "cells": [
  {
   "cell_type": "markdown",
   "metadata": {},
   "source": [
    "**Two Functional Codes 2/24**"
   ]
  },
  {
   "cell_type": "code",
   "execution_count": null,
   "metadata": {
    "collapsed": true
   },
   "outputs": [],
   "source": []
  },
  {
   "cell_type": "code",
   "execution_count": 57,
   "metadata": {
    "collapsed": false
   },
   "outputs": [],
   "source": [
    "#in_file = open(\"/home/eeb177-student/Desktop/eeb-177/eeb-174-final-project/apediversityformatted.csv\")\n",
    "\n",
    "#occurrence_freq = {}\n",
    "#in_file.readline()\n",
    "\n",
    "#for line in in_file:\n",
    "    #items = line.split(\"\\t\")\n",
    "#if len(line.split())== 10:\n",
    "    #time_interval = items[1]\n",
    "    #occur = float(items[9])\n",
    "    #occurrence_freq[time_interval] = occur\n",
    "   \n",
    "\n",
    "    \n",
    "#in_file.close()\n"
   ]
  },
  {
   "cell_type": "markdown",
   "metadata": {},
   "source": [
    "```\n",
    "cut -d \",\" -f 2,10 apediversityformatted.csv > apedivextract.csv\n",
    "```"
   ]
  },
  {
   "cell_type": "code",
   "execution_count": 134,
   "metadata": {
    "collapsed": false
   },
   "outputs": [
    {
     "name": "stdout",
     "output_type": "stream",
     "text": [
      "{'Late Pleistocene': 42.0, 'Messinian': 9.0, 'Holocene': 28.0, 'Calabrian': 91.0, 'Burdigalian': 18.0, 'Langhian': 8.0, 'Aquitanian': 4.0, 'Piacenzian': 56.0, 'Serravallian': 41.0, 'Tortonian': 13.0, 'Gelasian': 115.0, 'Middle Pleistocene': 35.0, 'Chattian': 2.0, 'Zanclean': 25.0}\n"
     ]
    }
   ],
   "source": [
    "import csv\n",
    "in_file = csv.reader(open(\"/home/eeb177-student/Desktop/eeb-177/eeb-174-final-project/apedivextract.csv\", \"r\"))\n",
    "def occur_freq(k):\n",
    "    occurrence_freq = {}\n",
    "    for row in in_file:\n",
    "        k, v = row\n",
    "        occurrence_freq[k] = float(v)\n",
    "    \n",
    "    \n",
    "print(occurrence_freq)"
   ]
  },
  {
   "cell_type": "code",
   "execution_count": 83,
   "metadata": {
    "collapsed": false
   },
   "outputs": [
    {
     "data": {
      "text/plain": [
       "dict_keys(['Late Pleistocene', 'Messinian', 'Holocene', 'Calabrian', 'Burdigalian', 'Langhian', 'Aquitanian', 'Piacenzian', 'Serravallian', 'Tortonian', 'Gelasian', 'Middle Pleistocene', 'Chattian', 'Zanclean'])"
      ]
     },
     "execution_count": 83,
     "metadata": {},
     "output_type": "execute_result"
    }
   ],
   "source": [
    "occurrence_freq.keys()"
   ]
  },
  {
   "cell_type": "code",
   "execution_count": 67,
   "metadata": {
    "collapsed": true
   },
   "outputs": [],
   "source": [
    "import matplotlib.pyplot as plt"
   ]
  },
  {
   "cell_type": "code",
   "execution_count": 75,
   "metadata": {
    "collapsed": false
   },
   "outputs": [
    {
     "data": {
      "image/png": "[encoded data removed]",
      "text/plain": [
       "<matplotlib.figure.Figure at 0x7ff60b102c50>"
      ]
     },
     "metadata": {},
     "output_type": "display_data"
    }
   ],
   "source": [
    "y = [42.0, 9.0, 28.0, 91.0, 18.0, 8.0, 4.0, 56.0, 41.0, 13.0, 115.0, 35.0, 2.0, 25.0]\n",
    "N = len(y)\n",
    "x = range(N)\n",
    "width = 1/1.5\n",
    "plt.bar(x, y, width, color=\"blue\")\n",
    "fig = plt.gcf()\n",
    "plt.show()"
   ]
  },
  {
   "cell_type": "code",
   "execution_count": 99,
   "metadata": {
    "collapsed": false
   },
   "outputs": [
    {
     "data": {
      "image/png": "[encoded data removed]",
      "text/plain": [
       "<matplotlib.figure.Figure at 0x7ff60b030668>"
      ]
     },
     "metadata": {},
     "output_type": "display_data"
    }
   ],
   "source": [
    "bar_heights = (occurrence_freq.values())\n",
    "x = (1, 2, 3, 4, 5, 6, 7, 8, 9, 10, 11, 12, 13, 14)\n",
    "fig, ax = plt.subplots()\n",
    "width = .6\n",
    "\n",
    "ax.bar(x, bar_heights, width)\n",
    "\n",
    "ax.set_xlim((0, 3))\n",
    "ax.set_ylim((0, max(occurrence_freq.values())*1.1))\n",
    "\n",
    "ax.set_xticks([i+width/2 for i in x])\n",
    "ax.set_xticklabels(occurrence_freq.keys())\n",
    "\n",
    "plt.show()"
   ]
  },
  {
   "cell_type": "code",
   "execution_count": 34,
   "metadata": {
    "collapsed": false
   },
   "outputs": [
    {
     "name": "stdout",
     "output_type": "stream",
     "text": [
      "{}\n"
     ]
    }
   ],
   "source": [
    "##this function attempts to find two columns of min and max to find duration of time period\n",
    "\n",
    "diversity_file= open(\"/home/eeb177-student/Desktop/eeb-177/eeb-174-final-project/apediversityformatted.csv\") \n",
    "diversity_interval = diversity_file.readline()\n",
    "diversity_file.readline()\n",
    "def interval_duration(interval):\n",
    "    interval_duration_dict = {}\n",
    "    for row in diversity_interval:\n",
    "        split = line.split(',')\n",
    "        split = line.split('\\t')\n",
    "    #if len(line.split(',')) == 10:\n",
    "        interval = split[1]\n",
    "        interval_dur = split[2] - split[3]\n",
    "        interval_duration_dict[interval]= float(interval_dur)\n",
    "    return(interval_duration_dict)\n",
    "       \n",
    "print(interval_duration_dict)\n"
   ]
  },
  {
   "cell_type": "code",
   "execution_count": 13,
   "metadata": {
    "collapsed": false
   },
   "outputs": [
    {
     "name": "stdout",
     "output_type": "stream",
     "text": [
      "Homo sapiens\n",
      "Hominidae indet.\n",
      "Homo sapiens\n",
      "Homo sapiens\n",
      "Homo sapiens\n",
      "Homo sapiens\n",
      "Homo cf. sapiens\n",
      "Homo sapiens\n",
      "Homo sapiens\n",
      "Homo sapiens\n",
      "Homo sapiens\n",
      "Homo sapiens\n",
      "Homo sapiens\n",
      "Homo sapiens\n",
      "Homo sapiens\n",
      "Homo sapiens\n",
      "Homo sapiens\n",
      "Homo sapiens\n",
      "Homo sapiens\n",
      "Homo sapiens\n",
      "Homo sapiens\n",
      "Homo sapiens\n",
      "Homo sapiens\n",
      "Homo cf. sapiens\n",
      "Homo sapiens\n",
      "Homo sapiens\n",
      "Homo sapiens\n",
      "Homo neandertalensis\n",
      "Homo sapiens\n",
      "Homo sapiens\n",
      "Homo sapiens\n",
      "Homo sapiens\n",
      "Homo sapiens\n",
      "Homo sapiens\n",
      "Homo sapiens\n",
      "Homo sapiens\n",
      "Homo sapiens\n",
      "Homo sapiens\n",
      "Homo sapiens\n",
      "Homo sapiens\n",
      "Homo sapiens\n",
      "Homo sapiens\n",
      "Homo sapiens\n",
      "Homo sapiens\n"
     ]
    }
   ],
   "source": [
    "#this function finds species which are extant only\n",
    "#this is needed for pyrate\n",
    "\n",
    "#my_file= open(\"/home/eeb177-student/Desktop/eeb-177/eeb-174-final-project/formattedapelist.csv\") \n",
    "#extinct_extant =my_file.read()\n",
    "\n",
    "#uniq_species = {}\n",
    "\n",
    "#for row in extinct_extant:\n",
    "    #species = row[5]\n",
    "    #extant_extinct = row[15]\n",
    "    #uni_species[species]= row[15]\n",
    "\n",
    "import csv\n",
    "\n",
    "def extinct_extanct(species):\n",
    "    for row in reader:\n",
    "        if row[15] == '0':\n",
    "            print(row[5])\n",
    "            \n",
    "with open(\"/home/eeb177-student/Desktop/eeb-177/eeb-174-final-project/formattedapelist.csv\", newline='') as infh:\n",
    "    reader = csv.reader(infh)\n",
    "    \n",
    "    for row in reader:\n",
    "        if row[15] == '0':\n",
    "            print(row[5])\n",
    "         \n",
    "\n",
    "\n"
   ]
  },
  {
   "cell_type": "code",
   "execution_count": null,
   "metadata": {
    "collapsed": true
   },
   "outputs": [],
   "source": []
  }
 ],
 "metadata": {
  "kernelspec": {
   "display_name": "Python 3",
   "language": "python",
   "name": "python3"
  },
  "language_info": {
   "codemirror_mode": {
    "name": "ipython",
    "version": 3
   },
   "file_extension": ".py",
   "mimetype": "text/x-python",
   "name": "python",
   "nbconvert_exporter": "python",
   "pygments_lexer": "ipython3",
   "version": "3.5.2"
  }
 },
 "nbformat": 4,
 "nbformat_minor": 2
}
